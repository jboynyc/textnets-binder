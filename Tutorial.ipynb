{
 "cells": [
  {
   "cell_type": "markdown",
   "metadata": {},
   "source": [
    "<div class=\"alert alert-block alert-warning\">\n",
    "\n",
    "📜 Need help using `textnets`? **Consult the [documentation](https://textnets.readthedocs.io).**\n",
    "\n",
    "💡 Found a problem or got an idea for how to improve `textnets`? **File [an issue](https://github.com/jboynyc/textnets/issues).**\n",
    "\n",
    "🙋🏽‍♀️ Still feeling lost? **Contact [me](https://www.jboy.space/contact.html).**\n",
    "    \n",
    "</div>"
   ]
  },
  {
   "cell_type": "markdown",
   "metadata": {},
   "source": [
    "Start by importing the `Corpus` and `Textnet` classes from `textnets`. The most important functions are exposed through instances of these classes."
   ]
  },
  {
   "cell_type": "code",
   "execution_count": null,
   "metadata": {},
   "outputs": [],
   "source": [
    "from textnets import Corpus, Textnet, examples"
   ]
  },
  {
   "cell_type": "markdown",
   "metadata": {},
   "source": [
    "## Step 1: Prepare Corpus"
   ]
  },
  {
   "cell_type": "markdown",
   "metadata": {},
   "source": [
    "There are many ways to prepare your collection of documents, or corpus, for analysis using `textnets`. Consult the documentation for details on how to read your texts from CSV files, SQL databases, or data frames.\n",
    "\n",
    "Here in Binder, you can upload your data in CSV format and then use `Corpus.from_csv` to read it.\n",
    "\n",
    "`textnets` supports many languages which you can specify using ISO short codes. The required language models are already installed in this environment."
   ]
  },
  {
   "cell_type": "code",
   "execution_count": null,
   "metadata": {},
   "outputs": [],
   "source": [
    "corpus = Corpus(examples.moon_landing, lang=\"en\")"
   ]
  },
  {
   "cell_type": "code",
   "execution_count": null,
   "metadata": {},
   "outputs": [],
   "source": [
    "corpus"
   ]
  },
  {
   "cell_type": "markdown",
   "metadata": {},
   "source": [
    "## Step 2: Create Network"
   ]
  },
  {
   "cell_type": "code",
   "execution_count": null,
   "metadata": {},
   "outputs": [],
   "source": [
    "tn = Textnet(corpus.tokenized(), min_docs=1)"
   ]
  },
  {
   "cell_type": "code",
   "execution_count": null,
   "metadata": {},
   "outputs": [],
   "source": [
    "tn"
   ]
  },
  {
   "cell_type": "markdown",
   "metadata": {},
   "source": [
    "## Step 3 and Beyond: Visualize & Analyze"
   ]
  },
  {
   "cell_type": "code",
   "execution_count": null,
   "metadata": {},
   "outputs": [],
   "source": [
    "tn.plot(label_doc_nodes=True, label_term_nodes=True, show_clusters=True)"
   ]
  },
  {
   "cell_type": "markdown",
   "metadata": {},
   "source": [
    "You can easily plot the distribution of common network metrics. Here's a histogram of the betweenness centrality of the document nodes."
   ]
  },
  {
   "cell_type": "code",
   "execution_count": null,
   "metadata": {},
   "outputs": [],
   "source": [
    "tn.project(node_type=\"doc\").betweenness.hist()"
   ]
  }
 ],
 "metadata": {
  "kernelspec": {
   "display_name": "Python 3.8 (with textnets)",
   "language": "python",
   "name": "textnets-notebook-env"
  },
  "language_info": {
   "codemirror_mode": {
    "name": "ipython",
    "version": 3
   },
   "file_extension": ".py",
   "mimetype": "text/x-python",
   "name": "python",
   "nbconvert_exporter": "python",
   "pygments_lexer": "ipython3",
   "version": "3.8.3"
  }
 },
 "nbformat": 4,
 "nbformat_minor": 4
}
